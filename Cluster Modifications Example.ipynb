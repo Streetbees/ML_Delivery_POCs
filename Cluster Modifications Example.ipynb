{
 "cells": [
  {
   "cell_type": "code",
   "execution_count": 1,
   "outputs": [],
   "source": [
    "import pandas as pd\n",
    "from src.clustering_help_functions import create_clustering_object, define_type_of_editing, format_clustering_modification_dictionary\n",
    "from src.reading_data import read_json_as_dict\n",
    "from ml_clustering.clustering import ClusterEditor,ClusteringUtils,Clustering, AutoClustering"
   ],
   "metadata": {
    "collapsed": false,
    "pycharm": {
     "name": "#%%\n"
    }
   }
  },
  {
   "cell_type": "code",
   "execution_count": 2,
   "outputs": [
    {
     "data": {
      "text/plain": "'/Users/kleomeniskogias/DataspellProjects/ML_Delivery_POCs'"
     },
     "execution_count": 2,
     "metadata": {},
     "output_type": "execute_result"
    }
   ],
   "source": [
    "import os\n",
    "os.getcwd()"
   ],
   "metadata": {
    "collapsed": false,
    "pycharm": {
     "name": "#%%\n"
    }
   }
  },
  {
   "cell_type": "code",
   "execution_count": 3,
   "outputs": [],
   "source": [
    "# Configurations\n",
    "data_file = \"data/sample_data.csv\"\n",
    "clustering_modifications_file = \"config/modifications.json\""
   ],
   "metadata": {
    "collapsed": false,
    "pycharm": {
     "name": "#%%\n"
    }
   }
  },
  {
   "cell_type": "code",
   "execution_count": 4,
   "outputs": [
    {
     "name": "stdout",
     "output_type": "stream",
     "text": [
      "(1000, 27)\n"
     ]
    }
   ],
   "source": [
    "# Read inputs\n",
    "input_df = pd.read_csv(data_file, index_col=False)\n",
    "print(input_df.shape)\n",
    "clustering_modifications = read_json_as_dict(clustering_modifications_file)"
   ],
   "metadata": {
    "collapsed": false,
    "pycharm": {
     "name": "#%%\n"
    }
   }
  },
  {
   "cell_type": "code",
   "execution_count": 5,
   "outputs": [
    {
     "data": {
      "text/plain": "    subcluster_number  Count\n16                  0     17\n12                  1     40\n18                  4     13\n19                  5     11\n14                  6     19\n2                   7     86\n4                   8     65\n7                   9     60\n5                  11     64\n6                  12     62\n21                 13      9\n9                  14     59\n22                 15      9\n20                 16      9\n3                  17     73\n23                 18      8\n1                  20     87\n0                  21     93\n11                 25     44\n15                 26     18\n13                 27     23\n10                 30     57\n8                  37     59\n24                 38      2\n17                 39     13",
      "text/html": "<div>\n<style scoped>\n    .dataframe tbody tr th:only-of-type {\n        vertical-align: middle;\n    }\n\n    .dataframe tbody tr th {\n        vertical-align: top;\n    }\n\n    .dataframe thead th {\n        text-align: right;\n    }\n</style>\n<table border=\"1\" class=\"dataframe\">\n  <thead>\n    <tr style=\"text-align: right;\">\n      <th></th>\n      <th>subcluster_number</th>\n      <th>Count</th>\n    </tr>\n  </thead>\n  <tbody>\n    <tr>\n      <th>16</th>\n      <td>0</td>\n      <td>17</td>\n    </tr>\n    <tr>\n      <th>12</th>\n      <td>1</td>\n      <td>40</td>\n    </tr>\n    <tr>\n      <th>18</th>\n      <td>4</td>\n      <td>13</td>\n    </tr>\n    <tr>\n      <th>19</th>\n      <td>5</td>\n      <td>11</td>\n    </tr>\n    <tr>\n      <th>14</th>\n      <td>6</td>\n      <td>19</td>\n    </tr>\n    <tr>\n      <th>2</th>\n      <td>7</td>\n      <td>86</td>\n    </tr>\n    <tr>\n      <th>4</th>\n      <td>8</td>\n      <td>65</td>\n    </tr>\n    <tr>\n      <th>7</th>\n      <td>9</td>\n      <td>60</td>\n    </tr>\n    <tr>\n      <th>5</th>\n      <td>11</td>\n      <td>64</td>\n    </tr>\n    <tr>\n      <th>6</th>\n      <td>12</td>\n      <td>62</td>\n    </tr>\n    <tr>\n      <th>21</th>\n      <td>13</td>\n      <td>9</td>\n    </tr>\n    <tr>\n      <th>9</th>\n      <td>14</td>\n      <td>59</td>\n    </tr>\n    <tr>\n      <th>22</th>\n      <td>15</td>\n      <td>9</td>\n    </tr>\n    <tr>\n      <th>20</th>\n      <td>16</td>\n      <td>9</td>\n    </tr>\n    <tr>\n      <th>3</th>\n      <td>17</td>\n      <td>73</td>\n    </tr>\n    <tr>\n      <th>23</th>\n      <td>18</td>\n      <td>8</td>\n    </tr>\n    <tr>\n      <th>1</th>\n      <td>20</td>\n      <td>87</td>\n    </tr>\n    <tr>\n      <th>0</th>\n      <td>21</td>\n      <td>93</td>\n    </tr>\n    <tr>\n      <th>11</th>\n      <td>25</td>\n      <td>44</td>\n    </tr>\n    <tr>\n      <th>15</th>\n      <td>26</td>\n      <td>18</td>\n    </tr>\n    <tr>\n      <th>13</th>\n      <td>27</td>\n      <td>23</td>\n    </tr>\n    <tr>\n      <th>10</th>\n      <td>30</td>\n      <td>57</td>\n    </tr>\n    <tr>\n      <th>8</th>\n      <td>37</td>\n      <td>59</td>\n    </tr>\n    <tr>\n      <th>24</th>\n      <td>38</td>\n      <td>2</td>\n    </tr>\n    <tr>\n      <th>17</th>\n      <td>39</td>\n      <td>13</td>\n    </tr>\n  </tbody>\n</table>\n</div>"
     },
     "execution_count": 5,
     "metadata": {},
     "output_type": "execute_result"
    }
   ],
   "source": [
    "# Check how the distribution of the clusters look like\n",
    "(input_df['global_subcluster_number'].value_counts()\n",
    " .reset_index().\n",
    " rename(columns = {'index' :  'subcluster_number', 'global_subcluster_number': 'Count'})\n",
    " .sort_values('subcluster_number'))"
   ],
   "metadata": {
    "collapsed": false,
    "pycharm": {
     "name": "#%%\n"
    }
   }
  },
  {
   "cell_type": "code",
   "execution_count": 6,
   "outputs": [],
   "source": [
    "# Create clustering object\n",
    "clustering = create_clustering_object(input_df, 'global_subcluster_number', [\"needs\"], 'submission_id')\n",
    "clustering.cluster_counts(percentage=True)\n",
    "editor=ClusterEditor(clustering)"
   ],
   "metadata": {
    "collapsed": false,
    "pycharm": {
     "name": "#%%\n"
    }
   }
  },
  {
   "cell_type": "code",
   "execution_count": 7,
   "outputs": [],
   "source": [
    "# Create clustering names dict\n",
    "clusters_df = input_df[['global_subcluster_number', 'global_subcluster_name']].sort_values('global_subcluster_number')\n",
    "cluster_names_dict = dict(zip(clusters_df['global_subcluster_number'], clusters_df['global_subcluster_name']))"
   ],
   "metadata": {
    "collapsed": false,
    "pycharm": {
     "name": "#%%\n"
    }
   }
  },
  {
   "cell_type": "markdown",
   "source": [
    "In the code below we are checking 4 different examples using the configuration file for clustering modifications\n",
    "Example 1: Modifications using multiple fields\n",
    "Example 2: Move to Noise\n",
    "Example 3 : Rename Cluster\n",
    "Example 4 : Create a new cluster"
   ],
   "metadata": {
    "collapsed": false,
    "pycharm": {
     "name": "#%% md\n"
    }
   }
  },
  {
   "cell_type": "code",
   "execution_count": 8,
   "outputs": [
    {
     "name": "stdout",
     "output_type": "stream",
     "text": [
      "--------------- Modification 0 --------------------\n",
      "Filter has been applied to this modification\n",
      "{'total': 57, 'staged_for_reassignment': 26}\n",
      "--------------- Modification 1 --------------------\n",
      "No filter has been applied to this modification...\n",
      "Empty dictionary\n",
      "{'total': 13, 'staged_for_reassignment': 13}\n",
      "--------------- Modification 2 --------------------\n",
      "Creating new cluster...\n",
      "Filter has been applied to this modification\n",
      "{'total': 64, 'staged_for_reassignment': 37}\n",
      "--------------- Modification 3 --------------------\n",
      "No filter has been applied to this modification...\n",
      "Empty dictionary\n",
      "{'total': 11, 'staged_for_reassignment': 11}\n"
     ]
    }
   ],
   "source": [
    "# Run clustering modifications\n",
    "for i, modification in enumerate(clustering_modifications):\n",
    "    print(f\"--------------- Modification {i} --------------------\")\n",
    "    modification, cluster_names_dict= define_type_of_editing(modification, cluster_names_dict,clustering) # Type of editing\n",
    "    d = format_clustering_modification_dictionary(modification)   # Modify the format of the dictionary\n",
    "    # Apply modification\n",
    "    if modification['from_cluster'] is not None:\n",
    "        # print(f\"editor.select(selections={d},from_cluster={modification['from_cluster']},to_cluster={modification['to_cluster']})\")\n",
    "        print(editor.select(selections=d,from_cluster=modification['from_cluster'],to_cluster=modification['to_cluster']))\n",
    "        editor.reassign()"
   ],
   "metadata": {
    "collapsed": false,
    "pycharm": {
     "name": "#%%\n"
    }
   }
  },
  {
   "cell_type": "code",
   "execution_count": 9,
   "outputs": [
    {
     "data": {
      "text/plain": "[[0, 0.03],\n [1, 0.04],\n [2, 0.0],\n [3, 0.0],\n [4, 0.0],\n [5, 0.011],\n [6, 0.019],\n [7, 0.086],\n [8, 0.065],\n [9, 0.06],\n [10, 0.0],\n [11, 0.027],\n [12, 0.062],\n [13, 0.009],\n [14, 0.059],\n [15, 0.009],\n [16, 0.009],\n [17, 0.073],\n [18, 0.008],\n [19, 0.0],\n [20, 0.087],\n [21, 0.093],\n [22, 0.0],\n [23, 0.0],\n [24, 0.0],\n [25, 0.044],\n [26, 0.018],\n [27, 0.023],\n [28, 0.0],\n [29, 0.0],\n [30, 0.031],\n [31, 0.0],\n [32, 0.0],\n [33, 0.0],\n [34, 0.0],\n [35, 0.0],\n [36, 0.0],\n [37, 0.085],\n [38, 0.002],\n [39, 0.013],\n [40, 0.037]]"
     },
     "execution_count": 9,
     "metadata": {},
     "output_type": "execute_result"
    }
   ],
   "source": [
    "clustering.cluster_counts(percentage=True)"
   ],
   "metadata": {
    "collapsed": false,
    "pycharm": {
     "name": "#%%\n"
    }
   }
  },
  {
   "cell_type": "code",
   "execution_count": 10,
   "outputs": [
    {
     "data": {
      "text/plain": "{0: 'NOISE',\n 1: 'Reward',\n 4: 'Jolly Time',\n 5: 'Renamed Cluster 5',\n 6: 'Enhance',\n 7: 'Perk Up',\n 8: 'Daily Enabler',\n 9: 'Easy Fuel',\n 11: 'Hydrate',\n 12: 'Nutrition Rich',\n 13: 'Supplement',\n 14: 'Enhance',\n 15: 'Replenish',\n 16: 'Revive',\n 17: 'Thirst Quench',\n 18: 'Cool Down',\n 20: 'Relish',\n 21: 'Enjoy',\n 25: 'Comfort',\n 26: 'Explore',\n 27: 'Happy Boost',\n 30: 'Functional Health',\n 37: 'Sure & Easy',\n 38: 'Sweet delight',\n 39: 'Revive',\n 40: 'Created new cluster'}"
     },
     "execution_count": 10,
     "metadata": {},
     "output_type": "execute_result"
    }
   ],
   "source": [
    "cluster_names_dict"
   ],
   "metadata": {
    "collapsed": false,
    "pycharm": {
     "name": "#%%\n"
    }
   }
  }
 ],
 "metadata": {
  "kernelspec": {
   "name": "ml_clustering_vas",
   "language": "python",
   "display_name": "ml_clustering_vas"
  },
  "language_info": {
   "codemirror_mode": {
    "name": "ipython",
    "version": 2
   },
   "file_extension": ".py",
   "mimetype": "text/x-python",
   "name": "python",
   "nbconvert_exporter": "python",
   "pygments_lexer": "ipython2",
   "version": "2.7.6"
  }
 },
 "nbformat": 4,
 "nbformat_minor": 0
}
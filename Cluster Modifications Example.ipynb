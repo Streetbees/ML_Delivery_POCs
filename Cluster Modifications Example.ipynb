{
 "cells": [
  {
   "cell_type": "code",
   "execution_count": 1,
   "outputs": [],
   "source": [
    "import sys"
   ],
   "metadata": {
    "collapsed": false,
    "pycharm": {
     "name": "#%%\n"
    }
   }
  },
  {
   "cell_type": "code",
   "execution_count": 4,
   "outputs": [],
   "source": [
    "import pandas as pd\n",
    "import os\n",
    "from src.clustering_help_functions import create_clustering_object, define_type_of_editing, format_clustering_modification_dictionary, create_mapping_df\n",
    "from src.reading_data import read_json_as_dict\n",
    "from src.google_drive import get_gsheet_tab\n",
    "from ml_data_bee.folder_file_loaders.dd.downloader import DdFileDownloader\n",
    "from ml_data_bee.folder_file_loaders.goe.uploader import GoeFileUploader\n",
    "from ml_clustering.clustering import ClusterEditor,ClusteringUtils,Clustering, AutoClustering\n"
   ],
   "metadata": {
    "collapsed": false,
    "pycharm": {
     "name": "#%%\n"
    }
   }
  },
  {
   "cell_type": "code",
   "execution_count": null,
   "outputs": [],
   "source": [
    "# Configurations\n",
    "clustering_modifications_file =\n"
   ],
   "metadata": {
    "collapsed": false,
    "pycharm": {
     "name": "#%%\n"
    }
   }
  },
  {
   "cell_type": "code",
   "execution_count": 9,
   "outputs": [],
   "source": [
    "# Create dataset\n",
    "\n",
    "# saved_file = \"/Users/kleomeniskogias/DataspellProjects/GO-enterprise/clients/pepsi/PEPC0036/data/temp/bev_need_states_global_with_global_modifications_04102022.csv\"\n",
    "# need_states_global = pd.read_csv(saved_file, index_col=False).drop(columns = 'sub_cluster')\n",
    "# print(need_states_global.shape)\n",
    "# # Raw data\n",
    "# client = 'pepsi'\n",
    "# project = 'PEPC0036'\n",
    "# release = '2022-06-24-16-51-55'  # Check that this release is the same wiht the one that I an using in the Pipeline\n",
    "# file_name = 'beverage_logs_unstacked'\n",
    "# print(client, project, file_name)\n",
    "# cols_to_fetch = ['submission_id', 'mood_coded', 'where_are_you_having_your_food_drink', 'activities_while_consuming', 'created_at_grouped', 'level1_ontology_from_pepsi_bev_3_1', 'level3_ontology_from_pepsi_bev_3_1']\n",
    "# bev_data = DdFileDownloader(client=client, project=project, local_base_path='../temp_data/', ).get_latest_snapshot(\n",
    "#     file_name=file_name, release=release)[cols_to_fetch]\n",
    "# print(bev_data.shape)\n",
    "# need_states_global= need_states_global.merge(bev_data, on='submission_id')\n",
    "# print(need_states_global.shape)"
   ],
   "metadata": {
    "collapsed": false,
    "pycharm": {
     "name": "#%%\n"
    }
   }
  },
  {
   "cell_type": "code",
   "execution_count": 11,
   "outputs": [
    {
     "name": "stdout",
     "output_type": "stream",
     "text": [
      "(126176, 27)\n"
     ]
    }
   ],
   "source": [
    "input_df = pd.read_csv(\"/Users/kleomeniskogias/DataspellProjects/GO-enterprise/clients/pepsi/PEPC0036/data/temp/Beverage substates with market level modifications_29092022.csv\")\n",
    "print(input_df.shape)"
   ],
   "metadata": {
    "collapsed": false,
    "pycharm": {
     "name": "#%%\n"
    }
   }
  },
  {
   "cell_type": "code",
   "execution_count": 12,
   "outputs": [
    {
     "data": {
      "text/plain": "   Unnamed: 0  level_0  index  submission_id need_state  sub_cluster_init  \\\n0           0        0      0       15310776    Hydrate               1.0   \n1           1        1      1       15310935       Fuel               0.0   \n2           2        2      2       15310987    Hydrate               1.0   \n3           3        3      3       15311135     Health               0.0   \n4           4        4      4       15311215       Fuel               1.0   \n\n  macro_pillar               created_at  \\\n0      Hydrate  2021-01-01 01:13:23.879   \n1         Fuel  2021-01-01 01:14:20.726   \n2      Hydrate  2021-01-01 01:25:36.821   \n3       Health  2021-01-01 01:23:21.880   \n4         Fuel  2021-01-01 01:28:21.114   \n\n                                           open_text  \\\n0                                  [\"I was thirsty\"]   \n1  [\"It\\u2019s was on discount at the supermarket...   \n2                        [\"I\\u2019m really thirsty\"]   \n3  [\"It is sugar free and no calories and they se...   \n4  [\"It gives energy and has high caffeine which ...   \n\n                                                  l1  ...  \\\n0                           [\"i was really thirsty\"]  ...   \n1  [\"buy\", \"could\", \"so thought\", \"liked the can\"...  ...   \n2                           [\"i was really thirsty\"]  ...   \n3  [\"right drink\", \"water or sugar-free\", \"no cal...  ...   \n4   [\"did something with caffeine\", \"bought energy\"]  ...   \n\n                                      needs list            mood_coded  \\\n0                        ['To quench my thirst']    [\"Neutral / fine\"]   \n1                       ['Good value for money']   [\"Great / amazing\"]   \n2                        ['To quench my thirst']   [\"Great / amazing\"]   \n3  ['No / low sugar', 'Low in (/zero) calories']  [\"Content / upbeat\"]   \n4  ['Gives me a boost / energy', 'Has caffeine']    [\"Neutral / fine\"]   \n\n  where_are_you_having_your_food_drink  \\\n0                           At my home   \n1                           At my home   \n2                           At my home   \n3                           At my home   \n4                           At my home   \n\n                          activities_while_consuming created_at_grouped  \\\n0  [\"Spending time with family\", \"Watching movies...           12am-3am   \n1  [\"Talking / chatting\", \"Spending time with fam...           12am-3am   \n2         [\"Spending time with partner / on a date\"]           12am-3am   \n3         [\"Spending time with partner / on a date\"]           12am-3am   \n4                             [\"Relaxing / resting\"]           12am-3am   \n\n  level1_ontology_from_pepsi_bev_3_1  \\\n0                    [\"Soft drinks\"]   \n1                    [\"Soft drinks\"]   \n2                    [\"Soft drinks\"]   \n3                    [\"Soft drinks\"]   \n4                    [\"Soft drinks\"]   \n\n             level3_ontology_from_pepsi_bev_3_1          SB_needstates  \\\n0                [\"Dilutes / squash / cordial\"]                Refresh   \n1  [\"Diet carbonated soft drink (unspecified)\"]                Routine   \n2                [\"Dilutes / squash / cordial\"]                Refresh   \n3  [\"Diet carbonated soft drink (unspecified)\"]  Keeps health balanced   \n4                              [\"Energy drink\"]                 Revive   \n\n  global_subcluster_number global_subcluster_name  \n0                       17          Thirst Quench  \n1                        9              Easy Fuel  \n2                       17          Thirst Quench  \n3                       37            Sure & Easy  \n4                        7                Perk Up  \n\n[5 rows x 27 columns]",
      "text/html": "<div>\n<style scoped>\n    .dataframe tbody tr th:only-of-type {\n        vertical-align: middle;\n    }\n\n    .dataframe tbody tr th {\n        vertical-align: top;\n    }\n\n    .dataframe thead th {\n        text-align: right;\n    }\n</style>\n<table border=\"1\" class=\"dataframe\">\n  <thead>\n    <tr style=\"text-align: right;\">\n      <th></th>\n      <th>Unnamed: 0</th>\n      <th>level_0</th>\n      <th>index</th>\n      <th>submission_id</th>\n      <th>need_state</th>\n      <th>sub_cluster_init</th>\n      <th>macro_pillar</th>\n      <th>created_at</th>\n      <th>open_text</th>\n      <th>l1</th>\n      <th>...</th>\n      <th>needs list</th>\n      <th>mood_coded</th>\n      <th>where_are_you_having_your_food_drink</th>\n      <th>activities_while_consuming</th>\n      <th>created_at_grouped</th>\n      <th>level1_ontology_from_pepsi_bev_3_1</th>\n      <th>level3_ontology_from_pepsi_bev_3_1</th>\n      <th>SB_needstates</th>\n      <th>global_subcluster_number</th>\n      <th>global_subcluster_name</th>\n    </tr>\n  </thead>\n  <tbody>\n    <tr>\n      <th>0</th>\n      <td>0</td>\n      <td>0</td>\n      <td>0</td>\n      <td>15310776</td>\n      <td>Hydrate</td>\n      <td>1.0</td>\n      <td>Hydrate</td>\n      <td>2021-01-01 01:13:23.879</td>\n      <td>[\"I was thirsty\"]</td>\n      <td>[\"i was really thirsty\"]</td>\n      <td>...</td>\n      <td>['To quench my thirst']</td>\n      <td>[\"Neutral / fine\"]</td>\n      <td>At my home</td>\n      <td>[\"Spending time with family\", \"Watching movies...</td>\n      <td>12am-3am</td>\n      <td>[\"Soft drinks\"]</td>\n      <td>[\"Dilutes / squash / cordial\"]</td>\n      <td>Refresh</td>\n      <td>17</td>\n      <td>Thirst Quench</td>\n    </tr>\n    <tr>\n      <th>1</th>\n      <td>1</td>\n      <td>1</td>\n      <td>1</td>\n      <td>15310935</td>\n      <td>Fuel</td>\n      <td>0.0</td>\n      <td>Fuel</td>\n      <td>2021-01-01 01:14:20.726</td>\n      <td>[\"It\\u2019s was on discount at the supermarket...</td>\n      <td>[\"buy\", \"could\", \"so thought\", \"liked the can\"...</td>\n      <td>...</td>\n      <td>['Good value for money']</td>\n      <td>[\"Great / amazing\"]</td>\n      <td>At my home</td>\n      <td>[\"Talking / chatting\", \"Spending time with fam...</td>\n      <td>12am-3am</td>\n      <td>[\"Soft drinks\"]</td>\n      <td>[\"Diet carbonated soft drink (unspecified)\"]</td>\n      <td>Routine</td>\n      <td>9</td>\n      <td>Easy Fuel</td>\n    </tr>\n    <tr>\n      <th>2</th>\n      <td>2</td>\n      <td>2</td>\n      <td>2</td>\n      <td>15310987</td>\n      <td>Hydrate</td>\n      <td>1.0</td>\n      <td>Hydrate</td>\n      <td>2021-01-01 01:25:36.821</td>\n      <td>[\"I\\u2019m really thirsty\"]</td>\n      <td>[\"i was really thirsty\"]</td>\n      <td>...</td>\n      <td>['To quench my thirst']</td>\n      <td>[\"Great / amazing\"]</td>\n      <td>At my home</td>\n      <td>[\"Spending time with partner / on a date\"]</td>\n      <td>12am-3am</td>\n      <td>[\"Soft drinks\"]</td>\n      <td>[\"Dilutes / squash / cordial\"]</td>\n      <td>Refresh</td>\n      <td>17</td>\n      <td>Thirst Quench</td>\n    </tr>\n    <tr>\n      <th>3</th>\n      <td>3</td>\n      <td>3</td>\n      <td>3</td>\n      <td>15311135</td>\n      <td>Health</td>\n      <td>0.0</td>\n      <td>Health</td>\n      <td>2021-01-01 01:23:21.880</td>\n      <td>[\"It is sugar free and no calories and they se...</td>\n      <td>[\"right drink\", \"water or sugar-free\", \"no cal...</td>\n      <td>...</td>\n      <td>['No / low sugar', 'Low in (/zero) calories']</td>\n      <td>[\"Content / upbeat\"]</td>\n      <td>At my home</td>\n      <td>[\"Spending time with partner / on a date\"]</td>\n      <td>12am-3am</td>\n      <td>[\"Soft drinks\"]</td>\n      <td>[\"Diet carbonated soft drink (unspecified)\"]</td>\n      <td>Keeps health balanced</td>\n      <td>37</td>\n      <td>Sure &amp; Easy</td>\n    </tr>\n    <tr>\n      <th>4</th>\n      <td>4</td>\n      <td>4</td>\n      <td>4</td>\n      <td>15311215</td>\n      <td>Fuel</td>\n      <td>1.0</td>\n      <td>Fuel</td>\n      <td>2021-01-01 01:28:21.114</td>\n      <td>[\"It gives energy and has high caffeine which ...</td>\n      <td>[\"did something with caffeine\", \"bought energy\"]</td>\n      <td>...</td>\n      <td>['Gives me a boost / energy', 'Has caffeine']</td>\n      <td>[\"Neutral / fine\"]</td>\n      <td>At my home</td>\n      <td>[\"Relaxing / resting\"]</td>\n      <td>12am-3am</td>\n      <td>[\"Soft drinks\"]</td>\n      <td>[\"Energy drink\"]</td>\n      <td>Revive</td>\n      <td>7</td>\n      <td>Perk Up</td>\n    </tr>\n  </tbody>\n</table>\n<p>5 rows × 27 columns</p>\n</div>"
     },
     "execution_count": 12,
     "metadata": {},
     "output_type": "execute_result"
    }
   ],
   "source": [
    "input_df.head()"
   ],
   "metadata": {
    "collapsed": false,
    "pycharm": {
     "name": "#%%\n"
    }
   }
  },
  {
   "cell_type": "code",
   "execution_count": 7,
   "outputs": [
    {
     "data": {
      "text/plain": "           id  cluster_id\n0  15310776.0        18.0\n1  15310935.0         9.0\n2  15310987.0        18.0\n3  15311135.0        30.0\n4  15311215.0         6.0",
      "text/html": "<div>\n<style scoped>\n    .dataframe tbody tr th:only-of-type {\n        vertical-align: middle;\n    }\n\n    .dataframe tbody tr th {\n        vertical-align: top;\n    }\n\n    .dataframe thead th {\n        text-align: right;\n    }\n</style>\n<table border=\"1\" class=\"dataframe\">\n  <thead>\n    <tr style=\"text-align: right;\">\n      <th></th>\n      <th>id</th>\n      <th>cluster_id</th>\n    </tr>\n  </thead>\n  <tbody>\n    <tr>\n      <th>0</th>\n      <td>15310776.0</td>\n      <td>18.0</td>\n    </tr>\n    <tr>\n      <th>1</th>\n      <td>15310935.0</td>\n      <td>9.0</td>\n    </tr>\n    <tr>\n      <th>2</th>\n      <td>15310987.0</td>\n      <td>18.0</td>\n    </tr>\n    <tr>\n      <th>3</th>\n      <td>15311135.0</td>\n      <td>30.0</td>\n    </tr>\n    <tr>\n      <th>4</th>\n      <td>15311215.0</td>\n      <td>6.0</td>\n    </tr>\n  </tbody>\n</table>\n</div>"
     },
     "execution_count": 7,
     "metadata": {},
     "output_type": "execute_result"
    }
   ],
   "source": [
    "submission_mapping.head()"
   ],
   "metadata": {
    "collapsed": false,
    "pycharm": {
     "name": "#%%\n"
    }
   }
  },
  {
   "cell_type": "code",
   "execution_count": 8,
   "outputs": [
    {
     "data": {
      "text/plain": "        index  submission_id need_state  sub_cluster_init final_need_state  \\\n0           0       15310776    Hydrate               1.0          Hydrate   \n1           1       15310935       Fuel               0.0             Fuel   \n2           2       15310987    Hydrate               1.0          Hydrate   \n3           3       15311135     Health               0.0           Health   \n4           4       15311215       Fuel               1.0             Fuel   \n...       ...            ...        ...               ...              ...   \n126171  19819       44581111    Indulge               1.0          Indulge   \n126172  19820       44582257     Health               6.0           Health   \n126173  19821       44612107    Indulge               4.0          Indulge   \n126174  19822       44748969    Hydrate               3.0          Hydrate   \n126175  19823       44776211    Hydrate               3.0          Indulge   \n\n                       created_at  \\\n0         2021-01-01 01:13:23.879   \n1         2021-01-01 01:14:20.726   \n2         2021-01-01 01:25:36.821   \n3         2021-01-01 01:23:21.880   \n4         2021-01-01 01:28:21.114   \n...                           ...   \n126171  2022-05-28 12:57:10 +0000   \n126172  2022-05-28 18:17:32 +0000   \n126173  2022-05-29 18:49:03 +0000   \n126174  2022-05-30 17:30:11 +0000   \n126175  2022-05-31 18:07:42 +0000   \n\n                                                open_text  \\\n0                                       [\"I was thirsty\"]   \n1       [\"It\\u2019s was on discount at the supermarket...   \n2                             [\"I\\u2019m really thirsty\"]   \n3       [\"It is sugar free and no calories and they se...   \n4       [\"It gives energy and has high caffeine which ...   \n...                                                   ...   \n126171                              [\"I like this drink\"]   \n126172                            [\"To go with the meal\"]   \n126173  [\"By desire by taste I like the ros\\u00e9 grap...   \n126174                            [\"because I'm thirsty\"]   \n126175  [\"it's hot it makes you thirsty and nothing be...   \n\n                                                       l1  \\\n0                                [\"i was really thirsty\"]   \n1       [\"liked the can\", \"so thought\", \"could\", \"buy\"...   \n2                                [\"i was really thirsty\"]   \n3       [\"no calories\", \"water or sugar-free\", \"right ...   \n4        [\"did something with caffeine\", \"bought energy\"]   \n...                                                   ...   \n126171                         [\"really like this drink\"]   \n126172                            [\"going with the meal\"]   \n126173  [\"not very strong\", \"desire for breakfast\", \"i...   \n126174                           [\"i was really thirsty\"]   \n126175  [\"got a little hot\", \"wanted to drink beer\", \"...   \n\n                                                       l2  \\\n0                                [\"i was really thirsty\"]   \n1                                               [\"NOISE\"]   \n2                                [\"i was really thirsty\"]   \n3                           [\"no calories\", \"sugar-free\"]   \n4               [\"to give me energy\", \"caffeine related\"]   \n...                                                   ...   \n126171                         [\"really like this drink\"]   \n126172                                          [\"NOISE\"]   \n126173                       [\"has taste\", \"it is fresh\"]   \n126174                           [\"i was really thirsty\"]   \n126175  [\"wanted a beer\", \"wanted something to warm me...   \n\n                                           ontology_codes  ...  \\\n0                                     [\"I had a craving\"]  ...   \n1                                  [\"Cheap / affordable\"]  ...   \n2                                     [\"I had a craving\"]  ...   \n3       [\"It's a healthy choice\", \"To relax / relieve ...  ...   \n4                                     [\"To boost energy\"]  ...   \n...                                                   ...  ...   \n126171                               [\"I like the taste\"]  ...   \n126172                  [\"To go with other food / drink\"]  ...   \n126173                               [\"I like the taste\"]  ...   \n126174                   [\"To feel refreshed / hydrated\"]  ...   \n126175  [\"I wanted something cold / refreshing\", \"To f...  ...   \n\n                                     needs_from_ontology  \\\n0                                    [\"I had a craving\"]   \n1                               [\"Good value for money\"]   \n2                                    [\"I had a craving\"]   \n3       [\"Is nutritious / healthy\", \"To relax & unwind\"]   \n4                          [\"Gives me a boost / energy\"]   \n...                                                  ...   \n126171                                      [\"Is tasty\"]   \n126172                             [\"Completes my meal\"]   \n126173                                      [\"Is tasty\"]   \n126174                          [\"To rehydrate my body\"]   \n126175         [\"Is refreshing\", \"To rehydrate my body\"]   \n\n                                                    needs location_name  \\\n0                                 [\"To quench my thirst\"]            UK   \n1                                [\"Good value for money\"]            UK   \n2                                 [\"To quench my thirst\"]            UK   \n3           [\"Low in (/zero) calories\", \"No / low sugar\"]            UK   \n4           [\"Has caffeine\", \"Gives me a boost / energy\"]            UK   \n...                                                   ...           ...   \n126171                                     [\"To indulge\"]            FR   \n126172                              [\"Completes my meal\"]            FR   \n126173    [\"Is Fresh / Fresh / freshly made\", \"Is tasty\"]            FR   \n126174                            [\"To quench my thirst\"]            FR   \n126175  [\"To indulge\", \"To quench my thirst\", \"Prevent...            FR   \n\n         weights                mood_coded  \\\n0       1.626915        [\"Neutral / fine\"]   \n1       0.410371       [\"Great / amazing\"]   \n2       0.577433       [\"Great / amazing\"]   \n3       0.454904      [\"Content / upbeat\"]   \n4       0.343354        [\"Neutral / fine\"]   \n...          ...                       ...   \n126171  1.559807      [\"Content / upbeat\"]   \n126172  0.422429      [\"Content / upbeat\"]   \n126173  1.927009      [\"Content / upbeat\"]   \n126174  0.665487  [\"Hopeful / optimistic\"]   \n126175  0.583864       [\"Busy / occupied\"]   \n\n       where_are_you_having_your_food_drink  \\\n0                                At my home   \n1                                At my home   \n2                                At my home   \n3                                At my home   \n4                                At my home   \n...                                     ...   \n126171                                Other   \n126172              In a cafe or restaurant   \n126173                           At my home   \n126174                       In a bar / pub   \n126175                           At my home   \n\n                               activities_while_consuming created_at_grouped  \\\n0       [\"Spending time with family\", \"Watching movies...           12am-3am   \n1       [\"Talking / chatting\", \"Spending time with fam...           12am-3am   \n2              [\"Spending time with partner / on a date\"]           12am-3am   \n3              [\"Spending time with partner / on a date\"]           12am-3am   \n4                                  [\"Relaxing / resting\"]           12am-3am   \n...                                                   ...                ...   \n126171                                                NaN           12pm-3pm   \n126172                                                NaN            6pm-9pm   \n126173                  [\"Watching movies / TV / sports\"]            6pm-9pm   \n126174                                                NaN            6pm-9pm   \n126175                                                NaN            6pm-9pm   \n\n       level1_ontology_from_pepsi_bev_3_1  \\\n0                         [\"Soft drinks\"]   \n1                         [\"Soft drinks\"]   \n2                         [\"Soft drinks\"]   \n3                         [\"Soft drinks\"]   \n4                         [\"Soft drinks\"]   \n...                                   ...   \n126171                           [\"Beer\"]   \n126172                  [\"Cider / Perry\"]   \n126173                           [\"Wine\"]   \n126174                           [\"Beer\"]   \n126175                           [\"Beer\"]   \n\n                  level3_ontology_from_pepsi_bev_3_1  \n0                     [\"Dilutes / squash / cordial\"]  \n1       [\"Diet carbonated soft drink (unspecified)\"]  \n2                     [\"Dilutes / squash / cordial\"]  \n3       [\"Diet carbonated soft drink (unspecified)\"]  \n4                                   [\"Energy drink\"]  \n...                                              ...  \n126171                      [\"Pale Lager / Pilsner\"]  \n126172                                           NaN  \n126173                                           NaN  \n126174                      [\"Pale Lager / Pilsner\"]  \n126175                                  [\"Pale Ale\"]  \n\n[126176 rows x 21 columns]",
      "text/html": "<div>\n<style scoped>\n    .dataframe tbody tr th:only-of-type {\n        vertical-align: middle;\n    }\n\n    .dataframe tbody tr th {\n        vertical-align: top;\n    }\n\n    .dataframe thead th {\n        text-align: right;\n    }\n</style>\n<table border=\"1\" class=\"dataframe\">\n  <thead>\n    <tr style=\"text-align: right;\">\n      <th></th>\n      <th>index</th>\n      <th>submission_id</th>\n      <th>need_state</th>\n      <th>sub_cluster_init</th>\n      <th>final_need_state</th>\n      <th>created_at</th>\n      <th>open_text</th>\n      <th>l1</th>\n      <th>l2</th>\n      <th>ontology_codes</th>\n      <th>...</th>\n      <th>needs_from_ontology</th>\n      <th>needs</th>\n      <th>location_name</th>\n      <th>weights</th>\n      <th>mood_coded</th>\n      <th>where_are_you_having_your_food_drink</th>\n      <th>activities_while_consuming</th>\n      <th>created_at_grouped</th>\n      <th>level1_ontology_from_pepsi_bev_3_1</th>\n      <th>level3_ontology_from_pepsi_bev_3_1</th>\n    </tr>\n  </thead>\n  <tbody>\n    <tr>\n      <th>0</th>\n      <td>0</td>\n      <td>15310776</td>\n      <td>Hydrate</td>\n      <td>1.0</td>\n      <td>Hydrate</td>\n      <td>2021-01-01 01:13:23.879</td>\n      <td>[\"I was thirsty\"]</td>\n      <td>[\"i was really thirsty\"]</td>\n      <td>[\"i was really thirsty\"]</td>\n      <td>[\"I had a craving\"]</td>\n      <td>...</td>\n      <td>[\"I had a craving\"]</td>\n      <td>[\"To quench my thirst\"]</td>\n      <td>UK</td>\n      <td>1.626915</td>\n      <td>[\"Neutral / fine\"]</td>\n      <td>At my home</td>\n      <td>[\"Spending time with family\", \"Watching movies...</td>\n      <td>12am-3am</td>\n      <td>[\"Soft drinks\"]</td>\n      <td>[\"Dilutes / squash / cordial\"]</td>\n    </tr>\n    <tr>\n      <th>1</th>\n      <td>1</td>\n      <td>15310935</td>\n      <td>Fuel</td>\n      <td>0.0</td>\n      <td>Fuel</td>\n      <td>2021-01-01 01:14:20.726</td>\n      <td>[\"It\\u2019s was on discount at the supermarket...</td>\n      <td>[\"liked the can\", \"so thought\", \"could\", \"buy\"...</td>\n      <td>[\"NOISE\"]</td>\n      <td>[\"Cheap / affordable\"]</td>\n      <td>...</td>\n      <td>[\"Good value for money\"]</td>\n      <td>[\"Good value for money\"]</td>\n      <td>UK</td>\n      <td>0.410371</td>\n      <td>[\"Great / amazing\"]</td>\n      <td>At my home</td>\n      <td>[\"Talking / chatting\", \"Spending time with fam...</td>\n      <td>12am-3am</td>\n      <td>[\"Soft drinks\"]</td>\n      <td>[\"Diet carbonated soft drink (unspecified)\"]</td>\n    </tr>\n    <tr>\n      <th>2</th>\n      <td>2</td>\n      <td>15310987</td>\n      <td>Hydrate</td>\n      <td>1.0</td>\n      <td>Hydrate</td>\n      <td>2021-01-01 01:25:36.821</td>\n      <td>[\"I\\u2019m really thirsty\"]</td>\n      <td>[\"i was really thirsty\"]</td>\n      <td>[\"i was really thirsty\"]</td>\n      <td>[\"I had a craving\"]</td>\n      <td>...</td>\n      <td>[\"I had a craving\"]</td>\n      <td>[\"To quench my thirst\"]</td>\n      <td>UK</td>\n      <td>0.577433</td>\n      <td>[\"Great / amazing\"]</td>\n      <td>At my home</td>\n      <td>[\"Spending time with partner / on a date\"]</td>\n      <td>12am-3am</td>\n      <td>[\"Soft drinks\"]</td>\n      <td>[\"Dilutes / squash / cordial\"]</td>\n    </tr>\n    <tr>\n      <th>3</th>\n      <td>3</td>\n      <td>15311135</td>\n      <td>Health</td>\n      <td>0.0</td>\n      <td>Health</td>\n      <td>2021-01-01 01:23:21.880</td>\n      <td>[\"It is sugar free and no calories and they se...</td>\n      <td>[\"no calories\", \"water or sugar-free\", \"right ...</td>\n      <td>[\"no calories\", \"sugar-free\"]</td>\n      <td>[\"It's a healthy choice\", \"To relax / relieve ...</td>\n      <td>...</td>\n      <td>[\"Is nutritious / healthy\", \"To relax &amp; unwind\"]</td>\n      <td>[\"Low in (/zero) calories\", \"No / low sugar\"]</td>\n      <td>UK</td>\n      <td>0.454904</td>\n      <td>[\"Content / upbeat\"]</td>\n      <td>At my home</td>\n      <td>[\"Spending time with partner / on a date\"]</td>\n      <td>12am-3am</td>\n      <td>[\"Soft drinks\"]</td>\n      <td>[\"Diet carbonated soft drink (unspecified)\"]</td>\n    </tr>\n    <tr>\n      <th>4</th>\n      <td>4</td>\n      <td>15311215</td>\n      <td>Fuel</td>\n      <td>1.0</td>\n      <td>Fuel</td>\n      <td>2021-01-01 01:28:21.114</td>\n      <td>[\"It gives energy and has high caffeine which ...</td>\n      <td>[\"did something with caffeine\", \"bought energy\"]</td>\n      <td>[\"to give me energy\", \"caffeine related\"]</td>\n      <td>[\"To boost energy\"]</td>\n      <td>...</td>\n      <td>[\"Gives me a boost / energy\"]</td>\n      <td>[\"Has caffeine\", \"Gives me a boost / energy\"]</td>\n      <td>UK</td>\n      <td>0.343354</td>\n      <td>[\"Neutral / fine\"]</td>\n      <td>At my home</td>\n      <td>[\"Relaxing / resting\"]</td>\n      <td>12am-3am</td>\n      <td>[\"Soft drinks\"]</td>\n      <td>[\"Energy drink\"]</td>\n    </tr>\n    <tr>\n      <th>...</th>\n      <td>...</td>\n      <td>...</td>\n      <td>...</td>\n      <td>...</td>\n      <td>...</td>\n      <td>...</td>\n      <td>...</td>\n      <td>...</td>\n      <td>...</td>\n      <td>...</td>\n      <td>...</td>\n      <td>...</td>\n      <td>...</td>\n      <td>...</td>\n      <td>...</td>\n      <td>...</td>\n      <td>...</td>\n      <td>...</td>\n      <td>...</td>\n      <td>...</td>\n      <td>...</td>\n    </tr>\n    <tr>\n      <th>126171</th>\n      <td>19819</td>\n      <td>44581111</td>\n      <td>Indulge</td>\n      <td>1.0</td>\n      <td>Indulge</td>\n      <td>2022-05-28 12:57:10 +0000</td>\n      <td>[\"I like this drink\"]</td>\n      <td>[\"really like this drink\"]</td>\n      <td>[\"really like this drink\"]</td>\n      <td>[\"I like the taste\"]</td>\n      <td>...</td>\n      <td>[\"Is tasty\"]</td>\n      <td>[\"To indulge\"]</td>\n      <td>FR</td>\n      <td>1.559807</td>\n      <td>[\"Content / upbeat\"]</td>\n      <td>Other</td>\n      <td>NaN</td>\n      <td>12pm-3pm</td>\n      <td>[\"Beer\"]</td>\n      <td>[\"Pale Lager / Pilsner\"]</td>\n    </tr>\n    <tr>\n      <th>126172</th>\n      <td>19820</td>\n      <td>44582257</td>\n      <td>Health</td>\n      <td>6.0</td>\n      <td>Health</td>\n      <td>2022-05-28 18:17:32 +0000</td>\n      <td>[\"To go with the meal\"]</td>\n      <td>[\"going with the meal\"]</td>\n      <td>[\"NOISE\"]</td>\n      <td>[\"To go with other food / drink\"]</td>\n      <td>...</td>\n      <td>[\"Completes my meal\"]</td>\n      <td>[\"Completes my meal\"]</td>\n      <td>FR</td>\n      <td>0.422429</td>\n      <td>[\"Content / upbeat\"]</td>\n      <td>In a cafe or restaurant</td>\n      <td>NaN</td>\n      <td>6pm-9pm</td>\n      <td>[\"Cider / Perry\"]</td>\n      <td>NaN</td>\n    </tr>\n    <tr>\n      <th>126173</th>\n      <td>19821</td>\n      <td>44612107</td>\n      <td>Indulge</td>\n      <td>4.0</td>\n      <td>Indulge</td>\n      <td>2022-05-29 18:49:03 +0000</td>\n      <td>[\"By desire by taste I like the ros\\u00e9 grap...</td>\n      <td>[\"not very strong\", \"desire for breakfast\", \"i...</td>\n      <td>[\"has taste\", \"it is fresh\"]</td>\n      <td>[\"I like the taste\"]</td>\n      <td>...</td>\n      <td>[\"Is tasty\"]</td>\n      <td>[\"Is Fresh / Fresh / freshly made\", \"Is tasty\"]</td>\n      <td>FR</td>\n      <td>1.927009</td>\n      <td>[\"Content / upbeat\"]</td>\n      <td>At my home</td>\n      <td>[\"Watching movies / TV / sports\"]</td>\n      <td>6pm-9pm</td>\n      <td>[\"Wine\"]</td>\n      <td>NaN</td>\n    </tr>\n    <tr>\n      <th>126174</th>\n      <td>19822</td>\n      <td>44748969</td>\n      <td>Hydrate</td>\n      <td>3.0</td>\n      <td>Hydrate</td>\n      <td>2022-05-30 17:30:11 +0000</td>\n      <td>[\"because I'm thirsty\"]</td>\n      <td>[\"i was really thirsty\"]</td>\n      <td>[\"i was really thirsty\"]</td>\n      <td>[\"To feel refreshed / hydrated\"]</td>\n      <td>...</td>\n      <td>[\"To rehydrate my body\"]</td>\n      <td>[\"To quench my thirst\"]</td>\n      <td>FR</td>\n      <td>0.665487</td>\n      <td>[\"Hopeful / optimistic\"]</td>\n      <td>In a bar / pub</td>\n      <td>NaN</td>\n      <td>6pm-9pm</td>\n      <td>[\"Beer\"]</td>\n      <td>[\"Pale Lager / Pilsner\"]</td>\n    </tr>\n    <tr>\n      <th>126175</th>\n      <td>19823</td>\n      <td>44776211</td>\n      <td>Hydrate</td>\n      <td>3.0</td>\n      <td>Indulge</td>\n      <td>2022-05-31 18:07:42 +0000</td>\n      <td>[\"it's hot it makes you thirsty and nothing be...</td>\n      <td>[\"got a little hot\", \"wanted to drink beer\", \"...</td>\n      <td>[\"wanted a beer\", \"wanted something to warm me...</td>\n      <td>[\"I wanted something cold / refreshing\", \"To f...</td>\n      <td>...</td>\n      <td>[\"Is refreshing\", \"To rehydrate my body\"]</td>\n      <td>[\"To indulge\", \"To quench my thirst\", \"Prevent...</td>\n      <td>FR</td>\n      <td>0.583864</td>\n      <td>[\"Busy / occupied\"]</td>\n      <td>At my home</td>\n      <td>NaN</td>\n      <td>6pm-9pm</td>\n      <td>[\"Beer\"]</td>\n      <td>[\"Pale Ale\"]</td>\n    </tr>\n  </tbody>\n</table>\n<p>126176 rows × 21 columns</p>\n</div>"
     },
     "execution_count": 8,
     "metadata": {},
     "output_type": "execute_result"
    }
   ],
   "source": [
    "need_states_global"
   ],
   "metadata": {
    "collapsed": false,
    "pycharm": {
     "name": "#%%\n"
    }
   }
  },
  {
   "cell_type": "code",
   "execution_count": null,
   "outputs": [],
   "source": [],
   "metadata": {
    "collapsed": false,
    "pycharm": {
     "name": "#%%\n"
    }
   }
  },
  {
   "cell_type": "code",
   "execution_count": null,
   "outputs": [],
   "source": [
    "for modification in clustering_modifications_file:\n",
    "    modification, cluster_names_dict= define_type_of_editing(modification, cluster_names_dict,clustering) # Type of editing\n",
    "    d = format_clustering_modification_dictionary(modification)   # Modify the format of the dictionary\n",
    "    # Apply modification\n",
    "    if modification['from_cluster'] is not None:\n",
    "        print(editor.select(selections=d,from_cluster=modification['from_cluster'],to_cluster=modification['to_cluster']))\n",
    "        editor.reassign()"
   ],
   "metadata": {
    "collapsed": false,
    "pycharm": {
     "name": "#%%\n"
    }
   }
  }
 ],
 "metadata": {
  "kernelspec": {
   "name": "ml_clustering_vas",
   "language": "python",
   "display_name": "ml_clustering_vas"
  },
  "language_info": {
   "codemirror_mode": {
    "name": "ipython",
    "version": 2
   },
   "file_extension": ".py",
   "mimetype": "text/x-python",
   "name": "python",
   "nbconvert_exporter": "python",
   "pygments_lexer": "ipython2",
   "version": "2.7.6"
  }
 },
 "nbformat": 4,
 "nbformat_minor": 0
}